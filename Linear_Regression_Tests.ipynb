{
 "cells": [
  {
   "cell_type": "markdown",
   "metadata": {},
   "source": [
    "# Linear Regression Tests"
   ]
  },
  {
   "cell_type": "markdown",
   "metadata": {},
   "source": [
    "## Simple Linear Regression (One Independent Variable)"
   ]
  },
  {
   "cell_type": "markdown",
   "metadata": {},
   "source": [
    "Linear regression assumes a linear or straight line relationship between the input variables ($X$)\n",
    "and the single output variable ($y$). More specifically, that output ($y$) can be calculated from a\n",
    "linear combination of the input variables ($X$). When there is a single input variable, the method\n",
    "is referred to as a simple linear regression.\n",
    "\n",
    "In simple linear regression we can use statistics on the training data to estimate the coefficients\n",
    "required by the model to make predictions on new data. The line for a simple linear regression\n",
    "model can be written as:\n",
    "\n",
    "\\begin{equation*}\n",
    "y = b_0 + b_1 \\times x\n",
    "\\end{equation*}\n",
    "\n",
    "Where $b_0$ and $b_1$ are the coeffcients we must estimate from the training data. Once the\n",
    "coefficients are known, we can use this equation to estimate output values for $y$ given new input\n",
    "examples of $x$. The technique requires that you calculate statistical properties from the data such as mean,\n",
    "variance and covariance."
   ]
  },
  {
   "cell_type": "code",
   "execution_count": 1,
   "metadata": {},
   "outputs": [],
   "source": [
    "# Contrived dataset\n",
    "dataset = [[1, 1], [2, 3], [4, 3], [3, 2], [5, 5]]"
   ]
  },
  {
   "cell_type": "code",
   "execution_count": 2,
   "metadata": {},
   "outputs": [],
   "source": [
    "import matplotlib.pyplot as plt \n",
    "from pprint import pprint\n",
    "import scipy.stats\n",
    "%matplotlib inline\n"
   ]
  },
  {
   "cell_type": "code",
   "execution_count": 3,
   "metadata": {},
   "outputs": [
    {
     "data": {
      "image/png": "[encoded data removed]",
      "text/plain": [
       "<Figure size 576x360 with 1 Axes>"
      ]
     },
     "metadata": {
      "needs_background": "light"
     },
     "output_type": "display_data"
    }
   ],
   "source": [
    "xs =[]\n",
    "ys = []\n",
    "for d in dataset:\n",
    "    x = d[0]\n",
    "    y = d[1]\n",
    "    xs = xs + [x]\n",
    "    ys = ys + [y]\n",
    "\n",
    "\n",
    "plt.figure(figsize=(8,5))    \n",
    "plt.axis([min(xs)-1, max(xs)+1, min(ys)-1, max(ys)+1])  \n",
    "plt.title('Contrived Dataset')\n",
    "plt.xlabel('x values', fontsize=14)\n",
    "plt.ylabel('y values', fontsize=14)\n",
    "\n",
    "plt.plot(xs, ys, 'bx')\n",
    "\n",
    "plt.show()"
   ]
  },
  {
   "cell_type": "code",
   "execution_count": 4,
   "metadata": {},
   "outputs": [
    {
     "name": "stdout",
     "output_type": "stream",
     "text": [
      "x stats: mean=3.000 variance=10.000\n",
      "y stats: mean=2.800 variance=8.800\n"
     ]
    }
   ],
   "source": [
    "\n",
    "# Example of Estimating Mean and Variance\n",
    "# Calculate the mean value of a list of numbers\n",
    "def mean(values):\n",
    "  return sum(values) / float(len(values))\n",
    "\n",
    "# Calculate the variance of a list of numbers\n",
    "def variance(values, mean):\n",
    "  return sum([(x-mean)**2 for x in values])\n",
    "\n",
    "# calculate mean and variance\n",
    "x = [row[0] for row in dataset]\n",
    "y = [row[1] for row in dataset]\n",
    "mean_x, mean_y = mean(x), mean(y)\n",
    "var_x, var_y = variance(x, mean_x), variance(y, mean_y)\n",
    "print('x stats: mean=%.3f variance=%.3f' % (mean_x, var_x))\n",
    "print('y stats: mean=%.3f variance=%.3f' % (mean_y, var_y))\n"
   ]
  },
  {
   "cell_type": "markdown",
   "metadata": {},
   "source": [
    "The covariance of two groups of numbers describes how those numbers change together. Co-\n",
    "variance is a generalization of correlation. Correlation describes the relationship between two\n",
    "groups of numbers, whereas covariance can describe the relationship between two or more\n",
    "groups of numbers. Additionally, covariance can be normalized to produce a correlation value.\n",
    "Nevertheless, we can calculate the covariance between two variables as follows:\n",
    "    \n",
    "\\begin{equation*}\n",
    "    covariance = \\sum_{i=1}^n \\left( x_{i} - mean(x) \\right) \\times \\left( y_{i} - mean(y) \\right)\n",
    "\\end{equation*}\n",
    "    "
   ]
  },
  {
   "cell_type": "code",
   "execution_count": 5,
   "metadata": {},
   "outputs": [],
   "source": [
    "# Calculate covariance between x and y\n",
    "def covariance(x, mean_x, y, mean_y):\n",
    "    covar = 0.0\n",
    "    for i in range(len(x)):\n",
    "        covar += (x[i] - mean_x) * (y[i] - mean_y)\n",
    "    return covar\n"
   ]
  },
  {
   "cell_type": "markdown",
   "metadata": {},
   "source": [
    "We must estimate the values for two coefficients in simple linear regression. The first is B1 which\n",
    "can be estimated as:\n",
    "\n",
    "\\begin{equation*}\n",
    "    B1 = \\frac{covariance(x, y)}{variance(x)}\n",
    "\\end{equation*}\n",
    "\n",
    "We already have functions to calculate covariance() and variance(). Next, we need to\n",
    "estimate a value for B0, also called the intercept as it controls the starting point of the line\n",
    "where it intersects the y-axis.\n",
    "\n",
    "\\begin{equation*}\n",
    "    B0 = mean(y) - B1 \\times mean(x) \n",
    "\\end{equation*}\n",
    "\n",
    "Again, we know how to estimate B1 and we have a function to estimate mean(). We can\n",
    "put all of this together into a function named coefficients() that takes the dataset as an\n",
    "argument and returns the coefficients. We implement this in python as,"
   ]
  },
  {
   "cell_type": "code",
   "execution_count": 6,
   "metadata": {},
   "outputs": [],
   "source": [
    "# Calculate coefficients\n",
    "def coefficients(dataset):\n",
    "    x = [row[0] for row in dataset]\n",
    "    y = [row[1] for row in dataset]\n",
    "    x_mean, y_mean = mean(x), mean(y)\n",
    "    b1 = covariance(x, x_mean, y, y_mean) / variance(x, x_mean)\n",
    "    b0 = y_mean - b1 * x_mean\n",
    "    return [b0, b1]"
   ]
  },
  {
   "cell_type": "markdown",
   "metadata": {},
   "source": [
    "The simple linear regression model is a line defined by coefficients estimated from training data.\n",
    "Once the coefficients are estimated, we can use them to make predictions.Below is a function named <tt>simple_linear_regression()</tt> that implements the prediction equation to make predictions on a test dataset. we will also add in a function to manage the evaluation of the predictions called <tt>evaluate_algorithm()</tt> and another function to estimate the Root Mean Squared Error (RMSE) of the predictions called <tt>rmse_metric()</tt>."
   ]
  },
  {
   "cell_type": "code",
   "execution_count": 7,
   "metadata": {},
   "outputs": [],
   "source": [
    "from math import sqrt\n",
    "\n",
    "def simple_linear_regression(train, test):\n",
    "    predictions = list()\n",
    "    b0, b1 = coefficients(train)\n",
    "    for row in test:\n",
    "        yhat = b0 + b1 * row[0]\n",
    "        predictions.append(yhat)\n",
    "    # The coefficients\n",
    "    print('Coefficients: b0 %.3f  b1 %.3f\\n' % (b0, b1) )   \n",
    "    return predictions\n",
    "\n",
    "# Calculate root mean squared error\n",
    "def rmse_metric(actual, predicted):\n",
    "    sum_error = 0.0\n",
    "    for i in range(len(actual)):\n",
    "        prediction_error = predicted[i] - actual[i]\n",
    "        sum_error += (prediction_error ** 2)\n",
    "        mean_error = sum_error / float(len(actual))\n",
    "    return sqrt(mean_error)\n",
    "\n",
    "# Evaluate regression algorithm on training dataset\n",
    "def evaluate_algorithm(dataset, algorithm):\n",
    "    y_predicted = list()\n",
    "    test_set = list()\n",
    "    for row in dataset:\n",
    "        row_copy = list(row)\n",
    "        row_copy[-1] = None\n",
    "        test_set.append(row_copy)\n",
    "    predicted = algorithm(dataset, test_set)\n",
    "    print(predicted)\n",
    "    y_predicted += predicted\n",
    "    actual = [row[-1] for row in dataset]\n",
    "    rmse = rmse_metric(actual, predicted)\n",
    "    return rmse, y_predicted\n"
   ]
  },
  {
   "cell_type": "markdown",
   "metadata": {},
   "source": [
    "Finally, we can run the linear regression."
   ]
  },
  {
   "cell_type": "code",
   "execution_count": 8,
   "metadata": {},
   "outputs": [
    {
     "name": "stdout",
     "output_type": "stream",
     "text": [
      "Coefficients: b0 0.400  b1 0.800\n",
      "\n",
      "[1.1999999999999995, 1.9999999999999996, 3.5999999999999996, 2.8, 4.3999999999999995]\n",
      "RMSE: 0.693\n"
     ]
    }
   ],
   "source": [
    "# Test simple linear regression\n",
    "rmse, y_predicted = evaluate_algorithm(dataset, simple_linear_regression)\n",
    "print('RMSE: %.3f' % (rmse))"
   ]
  },
  {
   "cell_type": "code",
   "execution_count": 9,
   "metadata": {},
   "outputs": [
    {
     "name": "stdout",
     "output_type": "stream",
     "text": [
      "[1.1999999999999995, 1.9999999999999996, 3.5999999999999996, 2.8, 4.3999999999999995]\n"
     ]
    }
   ],
   "source": [
    "print(y_predicted)"
   ]
  },
  {
   "cell_type": "code",
   "execution_count": 10,
   "metadata": {},
   "outputs": [
    {
     "name": "stdout",
     "output_type": "stream",
     "text": [
      "[1, 2, 4, 3, 5]\n",
      "[1.1999999999999995, 1.9999999999999996, 3.5999999999999996, 2.8, 4.3999999999999995]\n"
     ]
    },
    {
     "data": {
      "image/png": "[encoded data removed]",
      "text/plain": [
       "<Figure size 576x360 with 1 Axes>"
      ]
     },
     "metadata": {
      "needs_background": "light"
     },
     "output_type": "display_data"
    }
   ],
   "source": [
    "# Plot values\n",
    "plt.figure(figsize=(8,5))    \n",
    "plt.axis([min(xs)-1, max(xs)+1, min(ys)-1, max(ys)+1])  \n",
    "plt.title('Contrived Dataset')\n",
    "plt.xlabel('x values', fontsize=14)\n",
    "plt.ylabel('y values', fontsize=14)\n",
    "\n",
    "plt.plot(xs, ys, 'bx')\n",
    "plt.plot(xs, y_predicted, 'rx')\n",
    "plt.plot([xs[0], xs[-1]], [y_predicted[0], y_predicted[-1]], 'k-', lw=1)\n",
    "\n",
    "print(xs)\n",
    "print(y_predicted)\n",
    "\n",
    "plt.show()"
   ]
  },
  {
   "cell_type": "markdown",
   "metadata": {},
   "source": [
    "### Compare with Scikit Learn LinearRegression"
   ]
  },
  {
   "cell_type": "markdown",
   "metadata": {},
   "source": [
    "In theory... we should be able to test our linear egression implementation with the version implemented in the excellent scikit-learn libraries. If our implementation is correct then we should get identical results, right ? Let's test it...!"
   ]
  },
  {
   "cell_type": "code",
   "execution_count": 11,
   "metadata": {},
   "outputs": [],
   "source": [
    "import numpy as np\n",
    "from sklearn import datasets, linear_model\n",
    "from sklearn.metrics import mean_squared_error, r2_score"
   ]
  },
  {
   "cell_type": "code",
   "execution_count": 12,
   "metadata": {},
   "outputs": [
    {
     "name": "stdout",
     "output_type": "stream",
     "text": [
      "Coefficients: \n",
      " [[0.8]]\n",
      "Mean squared error: 0.48\n",
      "Root Mean squared error: 0.69\n",
      "Variance score: 0.73\n"
     ]
    },
    {
     "data": {
      "image/png": "[encoded data removed]",
      "text/plain": [
       "<Figure size 576x360 with 1 Axes>"
      ]
     },
     "metadata": {
      "needs_background": "light"
     },
     "output_type": "display_data"
    },
    {
     "name": "stdout",
     "output_type": "stream",
     "text": [
      "[[1]\n",
      " [2]\n",
      " [4]\n",
      " [3]\n",
      " [5]]\n",
      "[[1.2]\n",
      " [2. ]\n",
      " [3.6]\n",
      " [2.8]\n",
      " [4.4]]\n"
     ]
    }
   ],
   "source": [
    "# Create linear regression object\n",
    "regr = linear_model.LinearRegression()\n",
    "\n",
    "# Convert dataset lists to numpy arays\n",
    "xsa = np.array(xs).reshape(len(xs), 1);\n",
    "ysa = np.array(ys).reshape(len(ys), 1);\n",
    "\n",
    "# Train the model using the training sets\n",
    "regr.fit(xsa, ysa)\n",
    "\n",
    "# Make predictions using the testing set\n",
    "y_pred = regr.predict(xsa)\n",
    "\n",
    "# The coefficients and intercept\n",
    "print('Coefficients: \\n', regr.coef_)\n",
    "print('Intercept: \\n', regr.intercept_)\n",
    "\n",
    "# The mean squared error\n",
    "print(\"Mean squared error: %.2f\" % mean_squared_error(ysa, y_pred))\n",
    "print(\"Root Mean squared error: %.2f\" % sqrt(mean_squared_error(ysa, y_pred)))\n",
    "\n",
    "\n",
    "# Explained variance score: 1 is perfect prediction\n",
    "print('Variance score: %.2f' % r2_score(ysa, y_pred))\n",
    "\n",
    "# Plot outputs\n",
    "plt.figure(figsize=(8,5)) \n",
    "plt.axis([min(xsa)-1, max(xsa)+1, min(ysa)-1, max(ysa)+1])  \n",
    "plt.scatter(xsa, ysa,  color='blue')\n",
    "plt.plot(xsa, y_pred, color='black', linewidth=3)\n",
    "\n",
    "plt.xlabel('x values', fontsize=14)\n",
    "plt.ylabel('y values', fontsize=14)\n",
    "\n",
    "plt.show()\n",
    "\n",
    "print(xsa)\n",
    "print(y_pred)"
   ]
  },
  {
   "cell_type": "code",
   "execution_count": 16,
   "metadata": {},
   "outputs": [
    {
     "name": "stdout",
     "output_type": "stream",
     "text": [
      "Intercept =  [[0.4]]\n"
     ]
    }
   ],
   "source": [
    "print(\"Intercept = \", regr.predict([[0]]))"
   ]
  },
  {
   "cell_type": "markdown",
   "metadata": {},
   "source": [
    "Success! So the results of the scikit learn implementation match those of our own linear regression algorithm, thereby proving that our implementation from scratch is correct."
   ]
  },
  {
   "cell_type": "markdown",
   "metadata": {},
   "source": [
    "### Compare with Apache Spark LinearRegression"
   ]
  },
  {
   "cell_type": "markdown",
   "metadata": {},
   "source": [
    "Ok. In a few words, [Apache Spark](https://spark.apache.org \"Apache Spark\") is a fast, scalable and powerful framework that provides an API to perform massive distributed processing and machine-learning over DataFrame-based sets of data. We are going to use the highly useful Python 'findspark' package (<tt>pip install findspark</tt>) to find Spark on my local machine and then import 'pyspark', the python interface to the core Spark API libraries, to perform our linear regression."
   ]
  },
  {
   "cell_type": "markdown",
   "metadata": {},
   "source": [
    "However, I ran into a few problems. It seems that the <tt>LinearRegression</tt> module in Spark does not return a straight-line model. Despite extensive efforts [See here](https://github.com/github9000/Experiments/blob/master/Linear_Regression_Pyspark.ipynb \"See here\") and [here](https://github.com/github9000/Experiments/blob/master/Linear_Regression_Pyspark_2.ipynb \"here\") as well as a question on [Stackoverflow](https://stackoverflow.com/questions/53012062/how-do-i-get-a-straight-line-linear-regression-result-in-pyspark \"Stackoverflow\") and a question to the user@spark.apache.org mailing list, I was unable to get Pyspark to return a simple straight-line model. "
   ]
  },
  {
   "cell_type": "markdown",
   "metadata": {},
   "source": [
    "If you look at the Apache Spark [LinearRegression](https://github.com/apache/spark/blob/v2.3.2/mllib/src/main/scala/org/apache/spark/mllib/regression/LinearRegression.scala \"LinearRegression\") source code, you will see that it does not actually define any class called <tt>LinearRegression</tt>. In fact, a look at the [Spark documentation](https://spark.apache.org/docs/latest/api/scala/index.html#org.apache.spark.mllib.regression.package \"Spark documentation\") reveals that there is no <tt>LinearRegression</tt> class defined at all in Spark and the algorithm seems to be implemented in the more general <tt>GeneralizedLinearModel</tt> ([GLM](https://spark.apache.org/docs/latest/api/scala/index.html#org.apache.spark.mllib.regression.GeneralizedLinearAlgorithm \"GLM\")) class. Upon further investigation a <tt>LinearRegression</tt> class can be found defined in PySpark [here](http://spark.apache.org/docs/2.3.2/api/python/_modules/pyspark/ml/regression.html \"here\"). This seemsto use a <tt>org.apache.spark.ml.regression.LinearRegression</tt> Java object which (I think) in the underlying Scala code defaults to a <tt>GeneralizedLinearModel</tt>. This may explain why a straight-line model is not returned.   \n",
    "    "
   ]
  },
  {
   "cell_type": "markdown",
   "metadata": {},
   "source": [
    "### Compare with Linear Regression using Keras"
   ]
  },
  {
   "cell_type": "code",
   "execution_count": 18,
   "metadata": {},
   "outputs": [
    {
     "name": "stdout",
     "output_type": "stream",
     "text": [
      "3.0\n",
      "3.0\n"
     ]
    }
   ],
   "source": [
    "import tensorflow as tf\n",
    "import tensorflow.contrib.eager as tfe\n",
    "from tensorflow.python.eager.context import context, EAGER_MODE, GRAPH_MODE\n",
    "\n",
    "# Useful Tensorflow utility function\n",
    "def switch_to(mode):\n",
    "    ctx = context()._eager_context\n",
    "    ctx.mode = mode\n",
    "    ctx.is_eager = mode == EAGER_MODE\n",
    "\n",
    "switch_to(EAGER_MODE)\n",
    "assert tf.executing_eagerly()\n",
    "v = tfe.Variable(3.0)\n",
    "print(v.numpy())\n",
    "#assert tf.get_default_graph().get_operations() == []\n",
    "\n",
    "switch_to(GRAPH_MODE)\n",
    "assert not tf.executing_eagerly()\n",
    "v = tfe.Variable(3.0)\n",
    "init = tf.global_variables_initializer()\n",
    "assert len(tf.get_default_graph().get_operations()) > 0\n",
    "with tf.Session():\n",
    "    init.run()\n",
    "    print(v.eval())"
   ]
  },
  {
   "cell_type": "code",
   "execution_count": 19,
   "metadata": {},
   "outputs": [
    {
     "name": "stderr",
     "output_type": "stream",
     "text": [
      "Using TensorFlow backend.\n"
     ]
    },
    {
     "name": "stdout",
     "output_type": "stream",
     "text": [
      "Epoch 1/10\n",
      "5/5 [==============================] - 1s 209ms/step - loss: 10.0971\n",
      "Epoch 2/10\n",
      "5/5 [==============================] - 0s 999us/step - loss: 1.0096\n",
      "Epoch 3/10\n",
      "5/5 [==============================] - 0s 800us/step - loss: 0.6224\n",
      "Epoch 4/10\n",
      "5/5 [==============================] - 0s 1ms/step - loss: 0.6175\n",
      "Epoch 5/10\n",
      "5/5 [==============================] - 0s 1ms/step - loss: 0.6204\n",
      "Epoch 6/10\n",
      "5/5 [==============================] - 0s 999us/step - loss: 0.6212\n",
      "Epoch 7/10\n",
      "5/5 [==============================] - 0s 1ms/step - loss: 0.6213\n",
      "Epoch 8/10\n",
      "5/5 [==============================] - 0s 999us/step - loss: 0.6213\n",
      "Epoch 9/10\n",
      "5/5 [==============================] - 0s 1ms/step - loss: 0.6213\n",
      "Epoch 10/10\n",
      "5/5 [==============================] - 0s 999us/step - loss: 0.6212\n"
     ]
    },
    {
     "data": {
      "image/png": "[encoded data removed]",
      "text/plain": [
       "<Figure size 576x360 with 1 Axes>"
      ]
     },
     "metadata": {
      "needs_background": "light"
     },
     "output_type": "display_data"
    }
   ],
   "source": [
    "\n",
    "import keras\n",
    "from keras.layers import Input, Dense\n",
    "from keras.models import Model\n",
    "import numpy as np\n",
    "\n",
    "from matplotlib import pyplot as plt\n",
    "\n",
    "\n",
    "switch_to(GRAPH_MODE)\n",
    "\n",
    "\n",
    "## create dataset for regression\n",
    "def make_data():\n",
    "    # Contrived dataset\n",
    "    dataset = [[1, 1], [2, 3], [4, 3], [3, 2], [5, 5]]\n",
    "    xs =[]\n",
    "    ys = []\n",
    "    for d in dataset:\n",
    "        x = float(d[0])\n",
    "        y = float(d[1])\n",
    "        xs = xs + [x]\n",
    "        ys = ys + [y]\n",
    "    return np.array(xs), np.array(ys)\n",
    "\n",
    "xs, ys = make_data()\n",
    "\n",
    "inputs = Input(shape=(1,))\n",
    "preds = Dense(1, activation='linear')(inputs)\n",
    "\n",
    "model = Model(inputs=inputs, outputs=preds)\n",
    "sgd = keras.optimizers.SGD()\n",
    "model.compile(optimizer=sgd, loss='mse')\n",
    "history = model.fit(xs, ys, batch_size=1, verbose=1, epochs=10, shuffle=False)\n",
    "\n",
    "# Plot outputs\n",
    "plt.figure(figsize=(8,5)) \n",
    "plt.axis([min(xsa)-1, max(xsa)+1, min(ysa)-1, max(ysa)+1])  \n",
    "plt.scatter(xs, ys, color='black')\n",
    "plt.plot(xs, model.predict(xs), color='blue', linewidth=3)\n",
    "plt.show()\n"
   ]
  },
  {
   "cell_type": "code",
   "execution_count": 20,
   "metadata": {},
   "outputs": [
    {
     "data": {
      "text/plain": [
       "array([[0.36486247]], dtype=float32)"
      ]
     },
     "execution_count": 20,
     "metadata": {},
     "output_type": "execute_result"
    }
   ],
   "source": [
    "model.predict([0.0])"
   ]
  },
  {
   "cell_type": "code",
   "execution_count": 21,
   "metadata": {},
   "outputs": [
    {
     "data": {
      "text/plain": [
       "[array([[0.8452245]], dtype=float32), array([0.36486247], dtype=float32)]"
      ]
     },
     "execution_count": 21,
     "metadata": {},
     "output_type": "execute_result"
    }
   ],
   "source": [
    "model.get_weights()"
   ]
  },
  {
   "cell_type": "code",
   "execution_count": 26,
   "metadata": {},
   "outputs": [
    {
     "name": "stdout",
     "output_type": "stream",
     "text": [
      "{'batch_size': 1, 'epochs': 10, 'steps': None, 'samples': 5, 'verbose': 1, 'do_validation': False, 'metrics': ['loss']}\n"
     ]
    },
    {
     "data": {
      "image/png": "[encoded data removed]",
      "text/plain": [
       "<Figure size 864x288 with 1 Axes>"
      ]
     },
     "metadata": {
      "needs_background": "light"
     },
     "output_type": "display_data"
    }
   ],
   "source": [
    "\n",
    "print(history.params)\n",
    "\n",
    "plt.figure(figsize=(12,4))\n",
    "hist = history.history\n",
    "plt.subplot(121)\n",
    "plt.plot(hist['loss'])\n",
    "plt.title('loss')\n",
    "#plt.subplot(122)\n",
    "#plt.plot(hist['mse'])\n",
    "#plt.title('metric')\n",
    "pass"
   ]
  },
  {
   "cell_type": "markdown",
   "metadata": {},
   "source": [
    "### Compare with  Linear Regression using Tensorflow (Eager execution)"
   ]
  },
  {
   "cell_type": "code",
   "execution_count": 27,
   "metadata": {},
   "outputs": [
    {
     "name": "stdout",
     "output_type": "stream",
     "text": [
      "Initial cost= 45.060798645 W= -1.9514023 b= 0.022801235\n",
      "Epoch: 0001 cost= 35.085254669 W= -1.6374321 b= 0.109115295\n",
      "Epoch: 0100 cost= 0.248290926 W= 0.7163891 b= 0.70182663\n",
      "Epoch: 0200 cost= 0.245910794 W= 0.72941095 b= 0.6548488\n",
      "Epoch: 0300 cost= 0.244213969 W= 0.7403984 b= 0.61518085\n",
      "Epoch: 0400 cost= 0.243004248 W= 0.7496755 b= 0.58168757\n",
      "Epoch: 0500 cost= 0.242141798 W= 0.7575085 b= 0.55340743\n",
      "Epoch: 0600 cost= 0.241526932 W= 0.7641225 b= 0.52952904\n",
      "Epoch: 0700 cost= 0.241088584 W= 0.76970696 b= 0.5093677\n",
      "Epoch: 0800 cost= 0.240776017 W= 0.7744221 b= 0.49234444\n",
      "Epoch: 0900 cost= 0.240553260 W= 0.77840334 b= 0.47797087\n",
      "Epoch: 1000 cost= 0.240394399 W= 0.7817649 b= 0.46583462\n"
     ]
    },
    {
     "data": {
      "image/png": "[encoded data removed]",
      "text/plain": [
       "<Figure size 576x360 with 1 Axes>"
      ]
     },
     "metadata": {
      "needs_background": "light"
     },
     "output_type": "display_data"
    }
   ],
   "source": [
    "''' Linear Regression with Eager API.\n",
    "\n",
    "A linear regression learning algorithm example using TensorFlow's Eager API.\n",
    "\n",
    "'''\n",
    "from __future__ import absolute_import, division, print_function\n",
    "\n",
    "\n",
    "switch_to(EAGER_MODE)\n",
    "\n",
    "    \n",
    "train_X = xs\n",
    "train_Y = ys\n",
    "n_samples = len(train_X)\n",
    "\n",
    "# Parameters\n",
    "learning_rate = 0.01\n",
    "display_step = 100\n",
    "num_steps = 1000\n",
    "\n",
    "# Weight and Bias\n",
    "W = tfe.Variable(np.random.randn())\n",
    "b = tfe.Variable(np.random.randn())\n",
    "\n",
    "\n",
    "# Linear regression (Wx + b)\n",
    "def linear_regression(inputs):\n",
    "    return inputs * W + b\n",
    "\n",
    "\n",
    "# Mean square error\n",
    "def mean_square_fn(model_fn, inputs, labels):\n",
    "    return tf.reduce_sum(tf.pow(model_fn(inputs) - labels, 2)) / (2 * n_samples)\n",
    "\n",
    "\n",
    "# SGD Optimizer\n",
    "optimizer = tf.train.GradientDescentOptimizer(learning_rate=learning_rate)\n",
    "# Compute gradients\n",
    "grad = tfe.implicit_gradients(mean_square_fn)\n",
    "\n",
    "# Initial cost, before optimizing\n",
    "print(\"Initial cost= {:.9f}\".format(\n",
    "    mean_square_fn(linear_regression, train_X, train_Y)),\n",
    "    \"W=\", W.numpy(), \"b=\", b.numpy())\n",
    "\n",
    "# Training\n",
    "for step in range(num_steps):\n",
    "\n",
    "    optimizer.apply_gradients(grad(linear_regression, train_X, train_Y))\n",
    "\n",
    "    if (step + 1) % display_step == 0 or step == 0:\n",
    "        print(\"Epoch:\", '%04d' % (step + 1), \"cost=\",\n",
    "              \"{:.9f}\".format(mean_square_fn(linear_regression, train_X, train_Y)),\n",
    "              \"W=\", W.numpy(), \"b=\", b.numpy())\n",
    "\n",
    "        \n",
    "# Graphic display\n",
    "plt.figure(figsize=(8,5)) \n",
    "plt.axis([min(xsa)-1, max(xsa)+1, min(ysa)-1, max(ysa)+1])  \n",
    "plt.plot(train_X, train_Y, 'ro', label='Original data')\n",
    "plt.plot(train_X, np.array(W * train_X + b), label='Fitted line')\n",
    "plt.legend()\n",
    "plt.show()\n"
   ]
  },
  {
   "cell_type": "code",
   "execution_count": 28,
   "metadata": {},
   "outputs": [
    {
     "name": "stdout",
     "output_type": "stream",
     "text": [
      "W =  <tf.Variable 'Variable:0' shape=() dtype=float32, numpy=0.7817649>  b =  <tf.Variable 'Variable:0' shape=() dtype=float32, numpy=0.46583462>\n"
     ]
    }
   ],
   "source": [
    "print(\"W = \", W, \" b = \", b)"
   ]
  },
  {
   "cell_type": "markdown",
   "metadata": {},
   "source": [
    "### Summary"
   ]
  },
  {
   "cell_type": "code",
   "execution_count": null,
   "metadata": {},
   "outputs": [],
   "source": []
  }
 ],
 "metadata": {
  "kernelspec": {
   "display_name": "Python [default]",
   "language": "python",
   "name": "python3"
  },
  "language_info": {
   "codemirror_mode": {
    "name": "ipython",
    "version": 3
   },
   "file_extension": ".py",
   "mimetype": "text/x-python",
   "name": "python",
   "nbconvert_exporter": "python",
   "pygments_lexer": "ipython3",
   "version": "3.6.6"
  }
 },
 "nbformat": 4,
 "nbformat_minor": 2
}
