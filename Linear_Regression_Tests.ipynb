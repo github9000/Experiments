{
 "cells": [
  {
   "cell_type": "markdown",
   "metadata": {},
   "source": [
    "# Linear Regression Tests"
   ]
  },
  {
   "cell_type": "markdown",
   "metadata": {},
   "source": [
    "## Simple Linear Regression (Two Variables)"
   ]
  },
  {
   "cell_type": "markdown",
   "metadata": {},
   "source": [
    "Linear regression assumes a linear or straight line relationship between the input variables ($X$)\n",
    "and the single output variable ($y$). More specifically, that output ($y$) can be calculated from a\n",
    "linear combination of the input variables ($X$). When there is a single input variable, the method\n",
    "is referred to as a simple linear regression.\n",
    "\n",
    "In simple linear regression we can use statistics on the training data to estimate the coefficients\n",
    "required by the model to make predictions on new data. The line for a simple linear regression\n",
    "model can be written as:\n",
    "\n",
    "\\begin{equation*}\n",
    "y = b_0 + b_1 \\times x\n",
    "\\end{equation*}\n",
    "\n",
    "Where $b_0$ and $b_1$ are the coeffcients we must estimate from the training data. Once the\n",
    "coefficients are known, we can use this equation to estimate output values for $y$ given new input\n",
    "examples of $x$. The technique requires that you calculate statistical properties from the data such as mean,\n",
    "variance and covariance."
   ]
  },
  {
   "cell_type": "code",
   "execution_count": 1,
   "metadata": {},
   "outputs": [],
   "source": [
    "# Contrived dataset\n",
    "dataset = [[1, 1], [2, 3], [4, 3], [3, 2], [5, 5]]"
   ]
  },
  {
   "cell_type": "code",
   "execution_count": 2,
   "metadata": {},
   "outputs": [],
   "source": [
    "import matplotlib.pyplot as plt \n",
    "from pprint import pprint\n",
    "import scipy.stats\n",
    "%matplotlib inline\n"
   ]
  },
  {
   "cell_type": "code",
   "execution_count": 3,
   "metadata": {},
   "outputs": [
    {
     "data": {
      "text/plain": [
       "<function matplotlib.pyplot.show(*args, **kw)>"
      ]
     },
     "execution_count": 3,
     "metadata": {},
     "output_type": "execute_result"
    },
    {
     "data": {
      "image/png": "[encoded data removed]",
      "text/plain": [
       "<Figure size 576x360 with 1 Axes>"
      ]
     },
     "metadata": {
      "needs_background": "light"
     },
     "output_type": "display_data"
    }
   ],
   "source": [
    "xs =[]\n",
    "ys = []\n",
    "for d in dataset:\n",
    "    x = d[0]\n",
    "    y = d[1]\n",
    "    xs = xs + [x]\n",
    "    ys = ys + [y]\n",
    "\n",
    "\n",
    "plt.figure(figsize=(8,5))    \n",
    "plt.axis([min(xs)-1, max(xs)+1, min(ys)-1, max(ys)+1])  \n",
    "plt.title('Contrived Dataset')\n",
    "plt.xlabel('x values', fontsize=14)\n",
    "plt.ylabel('y values', fontsize=14)\n",
    "\n",
    "plt.plot(xs, ys, 'bx')\n",
    "\n",
    "plt.show"
   ]
  },
  {
   "cell_type": "code",
   "execution_count": 4,
   "metadata": {},
   "outputs": [
    {
     "name": "stdout",
     "output_type": "stream",
     "text": [
      "x stats: mean=3.000 variance=10.000\n",
      "y stats: mean=2.800 variance=8.800\n"
     ]
    }
   ],
   "source": [
    "\n",
    "# Example of Estimating Mean and Variance\n",
    "# Calculate the mean value of a list of numbers\n",
    "def mean(values):\n",
    "  return sum(values) / float(len(values))\n",
    "\n",
    "# Calculate the variance of a list of numbers\n",
    "def variance(values, mean):\n",
    "  return sum([(x-mean)**2 for x in values])\n",
    "\n",
    "# calculate mean and variance\n",
    "x = [row[0] for row in dataset]\n",
    "y = [row[1] for row in dataset]\n",
    "mean_x, mean_y = mean(x), mean(y)\n",
    "var_x, var_y = variance(x, mean_x), variance(y, mean_y)\n",
    "print('x stats: mean=%.3f variance=%.3f' % (mean_x, var_x))\n",
    "print('y stats: mean=%.3f variance=%.3f' % (mean_y, var_y))\n"
   ]
  },
  {
   "attachments": {},
   "cell_type": "markdown",
   "metadata": {},
   "source": [
    "The covariance of two groups of numbers describes how those numbers change together. Co-\n",
    "variance is a generalization of correlation. Correlation describes the relationship between two\n",
    "groups of numbers, whereas covariance can describe the relationship between two or more\n",
    "groups of numbers. Additionally, covariance can be normalized to produce a correlation value.\n",
    "Nevertheless, we can calculate the covariance between two variables as follows:\n",
    "    \n",
    "\\begin{equation*}\n",
    "    covariance = \\sum_{i=1}^n \\left( x_{i} - mean(x) \\right) \\times \\left( y_{i} - mean(y) \\right)\n",
    "\\end{equation*}\n",
    "    "
   ]
  },
  {
   "cell_type": "code",
   "execution_count": 5,
   "metadata": {},
   "outputs": [],
   "source": [
    "# Calculate covariance between x and y\n",
    "def covariance(x, mean_x, y, mean_y):\n",
    "    covar = 0.0\n",
    "    for i in range(len(x)):\n",
    "        covar += (x[i] - mean_x) * (y[i] - mean_y)\n",
    "    return covar\n"
   ]
  },
  {
   "cell_type": "markdown",
   "metadata": {},
   "source": [
    "We must estimate the values for two coefficients in simple linear regression. The first is B1 which\n",
    "can be estimated as:\n",
    "\n",
    "\\begin{equation*}\n",
    "    B1 = \\frac{covariance(x, y)}{variance(x)}\n",
    "\\end{equation*}\n",
    "\n",
    "We already have functions to calculate covariance() and variance(). Next, we need to\n",
    "estimate a value for B0, also called the intercept as it controls the starting point of the line\n",
    "where it intersects the y-axis.\n",
    "\n",
    "\\begin{equation*}\n",
    "    B0 = mean(y) - B1 \\times mean(x) \n",
    "\\end{equation*}\n",
    "\n",
    "Again, we know how to estimate B1 and we have a function to estimate mean(). We can\n",
    "put all of this together into a function named coefficients() that takes the dataset as an\n",
    "argument and returns the coefficients. We implement this in python as,"
   ]
  },
  {
   "cell_type": "code",
   "execution_count": 6,
   "metadata": {},
   "outputs": [],
   "source": [
    "# Calculate coefficients\n",
    "def coefficients(dataset):\n",
    "    x = [row[0] for row in dataset]\n",
    "    y = [row[1] for row in dataset]\n",
    "    x_mean, y_mean = mean(x), mean(y)\n",
    "    b1 = covariance(x, x_mean, y, y_mean) / variance(x, x_mean)\n",
    "    b0 = y_mean - b1 * x_mean\n",
    "    return [b0, b1]"
   ]
  },
  {
   "cell_type": "markdown",
   "metadata": {},
   "source": [
    "The simple linear regression model is a line defined by coefficients estimated from training data.\n",
    "Once the coefficients are estimated, we can use them to make predictions.Below is a function named <tt>simple_linear_regression()</tt> that implements the prediction equation to make predictions on a test dataset. we will also add in a function to manage the evaluation of the predictions called <tt>evaluate_algorithm()</tt> and another function to estimate the Root Mean Squared Error (RMSE) of the predictions called <tt>rmse_metric()</tt>."
   ]
  },
  {
   "cell_type": "code",
   "execution_count": 7,
   "metadata": {},
   "outputs": [],
   "source": [
    "from math import sqrt\n",
    "\n",
    "def simple_linear_regression(train, test):\n",
    "    predictions = list()\n",
    "    b0, b1 = coefficients(train)\n",
    "    for row in test:\n",
    "        yhat = b0 + b1 * row[0]\n",
    "        predictions.append(yhat)\n",
    "    # The coefficients\n",
    "    print('Coefficients: b0 %.3f  b1 %.3f\\n' % (b0, b1) )   \n",
    "    return predictions\n",
    "\n",
    "# Calculate root mean squared error\n",
    "def rmse_metric(actual, predicted):\n",
    "    sum_error = 0.0\n",
    "    for i in range(len(actual)):\n",
    "        prediction_error = predicted[i] - actual[i]\n",
    "        sum_error += (prediction_error ** 2)\n",
    "        mean_error = sum_error / float(len(actual))\n",
    "    return sqrt(mean_error)\n",
    "\n",
    "# Evaluate regression algorithm on training dataset\n",
    "def evaluate_algorithm(dataset, algorithm):\n",
    "    y_predicted = list()\n",
    "    test_set = list()\n",
    "    for row in dataset:\n",
    "        row_copy = list(row)\n",
    "        row_copy[-1] = None\n",
    "        test_set.append(row_copy)\n",
    "    predicted = algorithm(dataset, test_set)\n",
    "    print(predicted)\n",
    "    y_predicted += predicted\n",
    "    actual = [row[-1] for row in dataset]\n",
    "    rmse = rmse_metric(actual, predicted)\n",
    "    return rmse, y_predicted\n"
   ]
  },
  {
   "cell_type": "markdown",
   "metadata": {},
   "source": [
    "Finally, we can run the linear regression."
   ]
  },
  {
   "cell_type": "code",
   "execution_count": 8,
   "metadata": {},
   "outputs": [
    {
     "name": "stdout",
     "output_type": "stream",
     "text": [
      "Coefficients: b0 0.400  b1 0.800\n",
      "\n",
      "[1.1999999999999995, 1.9999999999999996, 3.5999999999999996, 2.8, 4.3999999999999995]\n",
      "RMSE: 0.693\n"
     ]
    }
   ],
   "source": [
    "# Test simple linear regression\n",
    "rmse, y_predicted = evaluate_algorithm(dataset, simple_linear_regression)\n",
    "print('RMSE: %.3f' % (rmse))"
   ]
  },
  {
   "cell_type": "code",
   "execution_count": 9,
   "metadata": {},
   "outputs": [
    {
     "name": "stdout",
     "output_type": "stream",
     "text": [
      "[1.1999999999999995, 1.9999999999999996, 3.5999999999999996, 2.8, 4.3999999999999995]\n"
     ]
    }
   ],
   "source": [
    "print(y_predicted)"
   ]
  },
  {
   "cell_type": "code",
   "execution_count": 10,
   "metadata": {},
   "outputs": [
    {
     "name": "stdout",
     "output_type": "stream",
     "text": [
      "[1, 2, 4, 3, 5]\n",
      "[1.1999999999999995, 1.9999999999999996, 3.5999999999999996, 2.8, 4.3999999999999995]\n"
     ]
    },
    {
     "data": {
      "text/plain": [
       "<function matplotlib.pyplot.show(*args, **kw)>"
      ]
     },
     "execution_count": 10,
     "metadata": {},
     "output_type": "execute_result"
    },
    {
     "data": {
      "image/png": "[encoded data removed]",
      "text/plain": [
       "<Figure size 576x360 with 1 Axes>"
      ]
     },
     "metadata": {
      "needs_background": "light"
     },
     "output_type": "display_data"
    }
   ],
   "source": [
    "\n",
    "plt.figure(figsize=(8,5))    \n",
    "plt.axis([min(xs)-1, max(xs)+1, min(ys)-1, max(ys)+1])  \n",
    "plt.title('Contrived Dataset')\n",
    "plt.xlabel('x values', fontsize=14)\n",
    "plt.ylabel('y values', fontsize=14)\n",
    "\n",
    "plt.plot(xs, ys, 'bx')\n",
    "plt.plot(xs, y_predicted, 'rx')\n",
    "plt.plot([xs[0], xs[-1]], [y_predicted[0], y_predicted[-1]], 'k-', lw=1)\n",
    "\n",
    "print(xs)\n",
    "print(y_predicted)\n",
    "\n",
    "plt.show"
   ]
  },
  {
   "cell_type": "markdown",
   "metadata": {},
   "source": [
    "### Compare with Scikit Learn LinearRegression"
   ]
  },
  {
   "cell_type": "markdown",
   "metadata": {},
   "source": [
    "In theory... we should be able to test our linear egression implementation with the version implemented in the excellent scikit-learn libraries. If our implememntation is correct then we should get identical results, right ? Let's test it...!"
   ]
  },
  {
   "cell_type": "code",
   "execution_count": 11,
   "metadata": {},
   "outputs": [],
   "source": [
    "import numpy as np\n",
    "from sklearn import datasets, linear_model\n",
    "from sklearn.metrics import mean_squared_error, r2_score"
   ]
  },
  {
   "cell_type": "code",
   "execution_count": 12,
   "metadata": {},
   "outputs": [
    {
     "name": "stdout",
     "output_type": "stream",
     "text": [
      "Coefficients: \n",
      " [[0.8]]\n",
      "Mean squared error: 0.48\n",
      "Root Mean squared error: 0.69\n",
      "Variance score: 0.73\n"
     ]
    },
    {
     "data": {
      "image/png": "[encoded data removed]",
      "text/plain": [
       "<Figure size 432x288 with 1 Axes>"
      ]
     },
     "metadata": {},
     "output_type": "display_data"
    }
   ],
   "source": [
    "\n",
    "# Create linear regression object\n",
    "regr = linear_model.LinearRegression()\n",
    "\n",
    "# Convert dataset lists to numpy arays\n",
    "xsa = np.array(xs).reshape(len(xs), 1);\n",
    "ysa = np.array(ys).reshape(len(ys), 1);\n",
    "\n",
    "# Train the model using the training sets\n",
    "regr.fit(xsa, ysa)\n",
    "\n",
    "# Make predictions using the testing set\n",
    "y_pred = regr.predict(xsa)\n",
    "\n",
    "# The coefficients\n",
    "print('Coefficients: \\n', regr.coef_)\n",
    "# The mean squared error\n",
    "print(\"Mean squared error: %.2f\" % mean_squared_error(ysa, y_pred))\n",
    "print(\"Root Mean squared error: %.2f\" % sqrt(mean_squared_error(ysa, y_pred)))\n",
    "\n",
    "\n",
    "# Explained variance score: 1 is perfect prediction\n",
    "print('Variance score: %.2f' % r2_score(ysa, y_pred))\n",
    "\n",
    "# Plot outputs\n",
    "plt.scatter(xsa, ysa,  color='blue')\n",
    "plt.plot(xsa, y_pred, color='black', linewidth=3)\n",
    "\n",
    "plt.xticks(())\n",
    "plt.yticks(())\n",
    "\n",
    "plt.show()"
   ]
  },
  {
   "cell_type": "markdown",
   "metadata": {},
   "source": [
    "Success! So the results of the scikit learn implemenation match those of our own linear regression algorithm, thereby proving that our implementation from scratch is correct."
   ]
  },
  {
   "cell_type": "markdown",
   "metadata": {},
   "source": [
    "## Multi-Variate Linear Regression"
   ]
  },
  {
   "cell_type": "code",
   "execution_count": null,
   "metadata": {},
   "outputs": [],
   "source": []
  },
  {
   "cell_type": "code",
   "execution_count": null,
   "metadata": {},
   "outputs": [],
   "source": []
  }
 ],
 "metadata": {
  "kernelspec": {
   "display_name": "Python [default]",
   "language": "python",
   "name": "python3"
  },
  "language_info": {
   "codemirror_mode": {
    "name": "ipython",
    "version": 3
   },
   "file_extension": ".py",
   "mimetype": "text/x-python",
   "name": "python",
   "nbconvert_exporter": "python",
   "pygments_lexer": "ipython3",
   "version": "3.6.6"
  }
 },
 "nbformat": 4,
 "nbformat_minor": 2
}
