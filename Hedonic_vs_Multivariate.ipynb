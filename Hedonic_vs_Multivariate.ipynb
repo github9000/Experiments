{
 "cells": [
  {
   "cell_type": "code",
   "execution_count": 1,
   "metadata": {},
   "outputs": [],
   "source": [
    "import pandas as pd\n",
    "import numpy as np\n",
    "import matplotlib as mpl\n",
    "import matplotlib.pyplot as plt\n",
    "import sklearn\n",
    "from sklearn import linear_model\n",
    "from sklearn.metrics import mean_squared_error\n",
    "from sklearn.model_selection import train_test_split\n",
    "\n",
    "#from sklearn.datasets import load_boston\n"
   ]
  },
  {
   "cell_type": "code",
   "execution_count": 2,
   "metadata": {},
   "outputs": [],
   "source": [
    "\n",
    "raw_data = {'total_floor_area': [685, 700, 800, 500, 700, 650, 600, 850, 1000, 900],\n",
    "        'co2_emissions': [3.2, 4.5, 3.0, 2.7, 5.0, 3.5, 3.0, 2.75, 3.8, 3.1],\n",
    "        'current_energy_efficiency': [60, 70, 65, 90, 89, 90, 75, 70, 80, 90],\n",
    "        'pot_energy_efficiency': [90, 95, 100, 90, 95, 100, 89, 90, 101, 90],\n",
    "        'distance_to_metro': [500, 125, 300, 2000, 200, 250, 350, 150, 50, 275],  \n",
    "        'solar_heating': [0, 0, 0, 1, 0, 0, 0, 1, 1, 0],            \n",
    "        'value': [200000.00, 250000.00, 280000.00, 195000.00, 250000.00, 240000.00, 250000.00, 330000.00, 400000.00, 300000.00],\n",
    "        }\n",
    "df_orig = pd.DataFrame(raw_data, columns = ['co2_emissions', 'total_floor_area', 'current_energy_efficiency',\n",
    "        'pot_energy_efficiency', 'distance_to_metro','solar_heating', 'value'])\n"
   ]
  },
  {
   "cell_type": "code",
   "execution_count": 3,
   "metadata": {},
   "outputs": [
    {
     "data": {
      "text/html": [
       "<div>\n",
       "<style scoped>\n",
       "    .dataframe tbody tr th:only-of-type {\n",
       "        vertical-align: middle;\n",
       "    }\n",
       "\n",
       "    .dataframe tbody tr th {\n",
       "        vertical-align: top;\n",
       "    }\n",
       "\n",
       "    .dataframe thead th {\n",
       "        text-align: right;\n",
       "    }\n",
       "</style>\n",
       "<table border=\"1\" class=\"dataframe\">\n",
       "  <thead>\n",
       "    <tr style=\"text-align: right;\">\n",
       "      <th></th>\n",
       "      <th>co2_emissions</th>\n",
       "      <th>total_floor_area</th>\n",
       "      <th>current_energy_efficiency</th>\n",
       "      <th>pot_energy_efficiency</th>\n",
       "      <th>distance_to_metro</th>\n",
       "      <th>solar_heating</th>\n",
       "      <th>value</th>\n",
       "    </tr>\n",
       "  </thead>\n",
       "  <tbody>\n",
       "    <tr>\n",
       "      <th>0</th>\n",
       "      <td>3.20</td>\n",
       "      <td>685</td>\n",
       "      <td>60</td>\n",
       "      <td>90</td>\n",
       "      <td>500</td>\n",
       "      <td>0</td>\n",
       "      <td>200000.0</td>\n",
       "    </tr>\n",
       "    <tr>\n",
       "      <th>1</th>\n",
       "      <td>4.50</td>\n",
       "      <td>700</td>\n",
       "      <td>70</td>\n",
       "      <td>95</td>\n",
       "      <td>125</td>\n",
       "      <td>0</td>\n",
       "      <td>250000.0</td>\n",
       "    </tr>\n",
       "    <tr>\n",
       "      <th>2</th>\n",
       "      <td>3.00</td>\n",
       "      <td>800</td>\n",
       "      <td>65</td>\n",
       "      <td>100</td>\n",
       "      <td>300</td>\n",
       "      <td>0</td>\n",
       "      <td>280000.0</td>\n",
       "    </tr>\n",
       "    <tr>\n",
       "      <th>3</th>\n",
       "      <td>2.70</td>\n",
       "      <td>500</td>\n",
       "      <td>90</td>\n",
       "      <td>90</td>\n",
       "      <td>2000</td>\n",
       "      <td>1</td>\n",
       "      <td>195000.0</td>\n",
       "    </tr>\n",
       "    <tr>\n",
       "      <th>4</th>\n",
       "      <td>5.00</td>\n",
       "      <td>700</td>\n",
       "      <td>89</td>\n",
       "      <td>95</td>\n",
       "      <td>200</td>\n",
       "      <td>0</td>\n",
       "      <td>250000.0</td>\n",
       "    </tr>\n",
       "    <tr>\n",
       "      <th>5</th>\n",
       "      <td>3.50</td>\n",
       "      <td>650</td>\n",
       "      <td>90</td>\n",
       "      <td>100</td>\n",
       "      <td>250</td>\n",
       "      <td>0</td>\n",
       "      <td>240000.0</td>\n",
       "    </tr>\n",
       "    <tr>\n",
       "      <th>6</th>\n",
       "      <td>3.00</td>\n",
       "      <td>600</td>\n",
       "      <td>75</td>\n",
       "      <td>89</td>\n",
       "      <td>350</td>\n",
       "      <td>0</td>\n",
       "      <td>250000.0</td>\n",
       "    </tr>\n",
       "    <tr>\n",
       "      <th>7</th>\n",
       "      <td>2.75</td>\n",
       "      <td>850</td>\n",
       "      <td>70</td>\n",
       "      <td>90</td>\n",
       "      <td>150</td>\n",
       "      <td>1</td>\n",
       "      <td>330000.0</td>\n",
       "    </tr>\n",
       "    <tr>\n",
       "      <th>8</th>\n",
       "      <td>3.80</td>\n",
       "      <td>1000</td>\n",
       "      <td>80</td>\n",
       "      <td>101</td>\n",
       "      <td>50</td>\n",
       "      <td>1</td>\n",
       "      <td>400000.0</td>\n",
       "    </tr>\n",
       "    <tr>\n",
       "      <th>9</th>\n",
       "      <td>3.10</td>\n",
       "      <td>900</td>\n",
       "      <td>90</td>\n",
       "      <td>90</td>\n",
       "      <td>275</td>\n",
       "      <td>0</td>\n",
       "      <td>300000.0</td>\n",
       "    </tr>\n",
       "  </tbody>\n",
       "</table>\n",
       "</div>"
      ],
      "text/plain": [
       "   co2_emissions  total_floor_area  current_energy_efficiency  \\\n",
       "0           3.20               685                         60   \n",
       "1           4.50               700                         70   \n",
       "2           3.00               800                         65   \n",
       "3           2.70               500                         90   \n",
       "4           5.00               700                         89   \n",
       "5           3.50               650                         90   \n",
       "6           3.00               600                         75   \n",
       "7           2.75               850                         70   \n",
       "8           3.80              1000                         80   \n",
       "9           3.10               900                         90   \n",
       "\n",
       "   pot_energy_efficiency  distance_to_metro  solar_heating     value  \n",
       "0                     90                500              0  200000.0  \n",
       "1                     95                125              0  250000.0  \n",
       "2                    100                300              0  280000.0  \n",
       "3                     90               2000              1  195000.0  \n",
       "4                     95                200              0  250000.0  \n",
       "5                    100                250              0  240000.0  \n",
       "6                     89                350              0  250000.0  \n",
       "7                     90                150              1  330000.0  \n",
       "8                    101                 50              1  400000.0  \n",
       "9                     90                275              0  300000.0  "
      ]
     },
     "execution_count": 3,
     "metadata": {},
     "output_type": "execute_result"
    }
   ],
   "source": [
    "df_orig"
   ]
  },
  {
   "cell_type": "code",
   "execution_count": 4,
   "metadata": {},
   "outputs": [],
   "source": [
    "df_x = pd.DataFrame(raw_data, columns = ['co2_emissions', 'total_floor_area', 'current_energy_efficiency',\n",
    "        'pot_energy_efficiency', 'distance_to_metro','solar_heating'])\n",
    "\n",
    "df_y = pd.DataFrame(raw_data, columns = ['value'])\n"
   ]
  },
  {
   "cell_type": "code",
   "execution_count": 5,
   "metadata": {},
   "outputs": [],
   "source": [
    "\n",
    "def manually_split_data(df_x, df_y, split_pos):\n",
    "    # Manually split data\n",
    "    X_train = df_x[:split_pos]\n",
    "    X_test = df_x[split_pos:]\n",
    "    Y_train = df_y[:split_pos]\n",
    "    Y_test = df_y[split_pos:]\n",
    "    return X_train, X_test, Y_train, Y_test\n",
    "    "
   ]
  },
  {
   "cell_type": "code",
   "execution_count": 6,
   "metadata": {},
   "outputs": [],
   "source": [
    "X_train, X_test, Y_train, Y_test = manually_split_data(df_x, df_y, 7)"
   ]
  },
  {
   "cell_type": "code",
   "execution_count": 7,
   "metadata": {},
   "outputs": [
    {
     "name": "stdout",
     "output_type": "stream",
     "text": [
      "(7, 6)\n",
      "<class 'pandas.core.frame.DataFrame'>\n"
     ]
    },
    {
     "data": {
      "text/html": [
       "<div>\n",
       "<style scoped>\n",
       "    .dataframe tbody tr th:only-of-type {\n",
       "        vertical-align: middle;\n",
       "    }\n",
       "\n",
       "    .dataframe tbody tr th {\n",
       "        vertical-align: top;\n",
       "    }\n",
       "\n",
       "    .dataframe thead th {\n",
       "        text-align: right;\n",
       "    }\n",
       "</style>\n",
       "<table border=\"1\" class=\"dataframe\">\n",
       "  <thead>\n",
       "    <tr style=\"text-align: right;\">\n",
       "      <th></th>\n",
       "      <th>co2_emissions</th>\n",
       "      <th>total_floor_area</th>\n",
       "      <th>current_energy_efficiency</th>\n",
       "      <th>pot_energy_efficiency</th>\n",
       "      <th>distance_to_metro</th>\n",
       "      <th>solar_heating</th>\n",
       "    </tr>\n",
       "  </thead>\n",
       "  <tbody>\n",
       "    <tr>\n",
       "      <th>0</th>\n",
       "      <td>3.2</td>\n",
       "      <td>685</td>\n",
       "      <td>60</td>\n",
       "      <td>90</td>\n",
       "      <td>500</td>\n",
       "      <td>0</td>\n",
       "    </tr>\n",
       "    <tr>\n",
       "      <th>1</th>\n",
       "      <td>4.5</td>\n",
       "      <td>700</td>\n",
       "      <td>70</td>\n",
       "      <td>95</td>\n",
       "      <td>125</td>\n",
       "      <td>0</td>\n",
       "    </tr>\n",
       "    <tr>\n",
       "      <th>2</th>\n",
       "      <td>3.0</td>\n",
       "      <td>800</td>\n",
       "      <td>65</td>\n",
       "      <td>100</td>\n",
       "      <td>300</td>\n",
       "      <td>0</td>\n",
       "    </tr>\n",
       "    <tr>\n",
       "      <th>3</th>\n",
       "      <td>2.7</td>\n",
       "      <td>500</td>\n",
       "      <td>90</td>\n",
       "      <td>90</td>\n",
       "      <td>2000</td>\n",
       "      <td>1</td>\n",
       "    </tr>\n",
       "    <tr>\n",
       "      <th>4</th>\n",
       "      <td>5.0</td>\n",
       "      <td>700</td>\n",
       "      <td>89</td>\n",
       "      <td>95</td>\n",
       "      <td>200</td>\n",
       "      <td>0</td>\n",
       "    </tr>\n",
       "    <tr>\n",
       "      <th>5</th>\n",
       "      <td>3.5</td>\n",
       "      <td>650</td>\n",
       "      <td>90</td>\n",
       "      <td>100</td>\n",
       "      <td>250</td>\n",
       "      <td>0</td>\n",
       "    </tr>\n",
       "    <tr>\n",
       "      <th>6</th>\n",
       "      <td>3.0</td>\n",
       "      <td>600</td>\n",
       "      <td>75</td>\n",
       "      <td>89</td>\n",
       "      <td>350</td>\n",
       "      <td>0</td>\n",
       "    </tr>\n",
       "  </tbody>\n",
       "</table>\n",
       "</div>"
      ],
      "text/plain": [
       "   co2_emissions  total_floor_area  current_energy_efficiency  \\\n",
       "0            3.2               685                         60   \n",
       "1            4.5               700                         70   \n",
       "2            3.0               800                         65   \n",
       "3            2.7               500                         90   \n",
       "4            5.0               700                         89   \n",
       "5            3.5               650                         90   \n",
       "6            3.0               600                         75   \n",
       "\n",
       "   pot_energy_efficiency  distance_to_metro  solar_heating  \n",
       "0                     90                500              0  \n",
       "1                     95                125              0  \n",
       "2                    100                300              0  \n",
       "3                     90               2000              1  \n",
       "4                     95                200              0  \n",
       "5                    100                250              0  \n",
       "6                     89                350              0  "
      ]
     },
     "execution_count": 7,
     "metadata": {},
     "output_type": "execute_result"
    }
   ],
   "source": [
    "print(X_train.shape)\n",
    "print(type(X_train))\n",
    "X_train"
   ]
  },
  {
   "cell_type": "code",
   "execution_count": 8,
   "metadata": {},
   "outputs": [
    {
     "name": "stdout",
     "output_type": "stream",
     "text": [
      "(3, 6)\n"
     ]
    },
    {
     "data": {
      "text/html": [
       "<div>\n",
       "<style scoped>\n",
       "    .dataframe tbody tr th:only-of-type {\n",
       "        vertical-align: middle;\n",
       "    }\n",
       "\n",
       "    .dataframe tbody tr th {\n",
       "        vertical-align: top;\n",
       "    }\n",
       "\n",
       "    .dataframe thead th {\n",
       "        text-align: right;\n",
       "    }\n",
       "</style>\n",
       "<table border=\"1\" class=\"dataframe\">\n",
       "  <thead>\n",
       "    <tr style=\"text-align: right;\">\n",
       "      <th></th>\n",
       "      <th>co2_emissions</th>\n",
       "      <th>total_floor_area</th>\n",
       "      <th>current_energy_efficiency</th>\n",
       "      <th>pot_energy_efficiency</th>\n",
       "      <th>distance_to_metro</th>\n",
       "      <th>solar_heating</th>\n",
       "    </tr>\n",
       "  </thead>\n",
       "  <tbody>\n",
       "    <tr>\n",
       "      <th>7</th>\n",
       "      <td>2.75</td>\n",
       "      <td>850</td>\n",
       "      <td>70</td>\n",
       "      <td>90</td>\n",
       "      <td>150</td>\n",
       "      <td>1</td>\n",
       "    </tr>\n",
       "    <tr>\n",
       "      <th>8</th>\n",
       "      <td>3.80</td>\n",
       "      <td>1000</td>\n",
       "      <td>80</td>\n",
       "      <td>101</td>\n",
       "      <td>50</td>\n",
       "      <td>1</td>\n",
       "    </tr>\n",
       "    <tr>\n",
       "      <th>9</th>\n",
       "      <td>3.10</td>\n",
       "      <td>900</td>\n",
       "      <td>90</td>\n",
       "      <td>90</td>\n",
       "      <td>275</td>\n",
       "      <td>0</td>\n",
       "    </tr>\n",
       "  </tbody>\n",
       "</table>\n",
       "</div>"
      ],
      "text/plain": [
       "   co2_emissions  total_floor_area  current_energy_efficiency  \\\n",
       "7           2.75               850                         70   \n",
       "8           3.80              1000                         80   \n",
       "9           3.10               900                         90   \n",
       "\n",
       "   pot_energy_efficiency  distance_to_metro  solar_heating  \n",
       "7                     90                150              1  \n",
       "8                    101                 50              1  \n",
       "9                     90                275              0  "
      ]
     },
     "execution_count": 8,
     "metadata": {},
     "output_type": "execute_result"
    }
   ],
   "source": [
    "print(X_test.shape)\n",
    "X_test.head()"
   ]
  },
  {
   "cell_type": "code",
   "execution_count": 9,
   "metadata": {},
   "outputs": [
    {
     "name": "stdout",
     "output_type": "stream",
     "text": [
      "(7, 1)\n"
     ]
    },
    {
     "data": {
      "text/html": [
       "<div>\n",
       "<style scoped>\n",
       "    .dataframe tbody tr th:only-of-type {\n",
       "        vertical-align: middle;\n",
       "    }\n",
       "\n",
       "    .dataframe tbody tr th {\n",
       "        vertical-align: top;\n",
       "    }\n",
       "\n",
       "    .dataframe thead th {\n",
       "        text-align: right;\n",
       "    }\n",
       "</style>\n",
       "<table border=\"1\" class=\"dataframe\">\n",
       "  <thead>\n",
       "    <tr style=\"text-align: right;\">\n",
       "      <th></th>\n",
       "      <th>value</th>\n",
       "    </tr>\n",
       "  </thead>\n",
       "  <tbody>\n",
       "    <tr>\n",
       "      <th>0</th>\n",
       "      <td>200000.0</td>\n",
       "    </tr>\n",
       "    <tr>\n",
       "      <th>1</th>\n",
       "      <td>250000.0</td>\n",
       "    </tr>\n",
       "    <tr>\n",
       "      <th>2</th>\n",
       "      <td>280000.0</td>\n",
       "    </tr>\n",
       "    <tr>\n",
       "      <th>3</th>\n",
       "      <td>195000.0</td>\n",
       "    </tr>\n",
       "    <tr>\n",
       "      <th>4</th>\n",
       "      <td>250000.0</td>\n",
       "    </tr>\n",
       "  </tbody>\n",
       "</table>\n",
       "</div>"
      ],
      "text/plain": [
       "      value\n",
       "0  200000.0\n",
       "1  250000.0\n",
       "2  280000.0\n",
       "3  195000.0\n",
       "4  250000.0"
      ]
     },
     "execution_count": 9,
     "metadata": {},
     "output_type": "execute_result"
    }
   ],
   "source": [
    "print(Y_train.shape)\n",
    "Y_train.head()"
   ]
  },
  {
   "cell_type": "code",
   "execution_count": 10,
   "metadata": {},
   "outputs": [
    {
     "name": "stdout",
     "output_type": "stream",
     "text": [
      "(3, 1)\n"
     ]
    },
    {
     "data": {
      "text/html": [
       "<div>\n",
       "<style scoped>\n",
       "    .dataframe tbody tr th:only-of-type {\n",
       "        vertical-align: middle;\n",
       "    }\n",
       "\n",
       "    .dataframe tbody tr th {\n",
       "        vertical-align: top;\n",
       "    }\n",
       "\n",
       "    .dataframe thead th {\n",
       "        text-align: right;\n",
       "    }\n",
       "</style>\n",
       "<table border=\"1\" class=\"dataframe\">\n",
       "  <thead>\n",
       "    <tr style=\"text-align: right;\">\n",
       "      <th></th>\n",
       "      <th>value</th>\n",
       "    </tr>\n",
       "  </thead>\n",
       "  <tbody>\n",
       "    <tr>\n",
       "      <th>7</th>\n",
       "      <td>330000.0</td>\n",
       "    </tr>\n",
       "    <tr>\n",
       "      <th>8</th>\n",
       "      <td>400000.0</td>\n",
       "    </tr>\n",
       "    <tr>\n",
       "      <th>9</th>\n",
       "      <td>300000.0</td>\n",
       "    </tr>\n",
       "  </tbody>\n",
       "</table>\n",
       "</div>"
      ],
      "text/plain": [
       "      value\n",
       "7  330000.0\n",
       "8  400000.0\n",
       "9  300000.0"
      ]
     },
     "execution_count": 10,
     "metadata": {},
     "output_type": "execute_result"
    }
   ],
   "source": [
    "print(Y_test.shape)\n",
    "Y_test.head()"
   ]
  },
  {
   "cell_type": "code",
   "execution_count": 11,
   "metadata": {},
   "outputs": [],
   "source": [
    "# Run Simple linear regression model\n",
    "reg = linear_model.LinearRegression()\n",
    "reg.fit(X_train,Y_train)\n",
    "Y_predict = reg.predict(X_test)"
   ]
  },
  {
   "cell_type": "code",
   "execution_count": 12,
   "metadata": {},
   "outputs": [
    {
     "name": "stdout",
     "output_type": "stream",
     "text": [
      "[[-4.96807951e+04  6.33551779e+02  2.56017954e+03 -7.90702148e+03\n",
      "  -3.17373517e+02  4.86621571e+05]]     [641703.49470984]\n"
     ]
    }
   ],
   "source": [
    "print(reg.coef_, '   ', reg.intercept_)   # Length of 6 features plus 1 target variable"
   ]
  },
  {
   "cell_type": "code",
   "execution_count": 13,
   "metadata": {},
   "outputs": [
    {
     "data": {
      "image/png": "[encoded data removed]",
      "text/plain": [
       "<Figure size 432x288 with 1 Axes>"
      ]
     },
     "metadata": {
      "needs_background": "light"
     },
     "output_type": "display_data"
    }
   ],
   "source": [
    "plt.scatter(Y_test, Y_predict, color='blue')\n",
    "plt.xlabel(\"Prices\")\n",
    "plt.ylabel(\"Predicted prices\")\n",
    "plt.title(\"Error - Prices vs Predicted prices\")\n",
    "plt.show()"
   ]
  },
  {
   "cell_type": "code",
   "execution_count": 14,
   "metadata": {},
   "outputs": [
    {
     "name": "stdout",
     "output_type": "stream",
     "text": [
      "value    2.459879e+11\n",
      "dtype: float64\n",
      "Mean Squared Error: 245987945864.80\n"
     ]
    }
   ],
   "source": [
    "error = np.mean((Y_predict - Y_test)**2)\n",
    "print(error)\n",
    "print('Mean Squared Error: ' + \"{:.2f}\".format(float(error)))"
   ]
  },
  {
   "cell_type": "markdown",
   "metadata": {},
   "source": [
    "# TEST"
   ]
  },
  {
   "cell_type": "code",
   "execution_count": 15,
   "metadata": {},
   "outputs": [
    {
     "data": {
      "text/plain": [
       "Index(['co2_emissions', 'total_floor_area', 'current_energy_efficiency',\n",
       "       'pot_energy_efficiency', 'distance_to_metro', 'solar_heating'],\n",
       "      dtype='object')"
      ]
     },
     "execution_count": 15,
     "metadata": {},
     "output_type": "execute_result"
    }
   ],
   "source": [
    "df_x.columns"
   ]
  },
  {
   "cell_type": "code",
   "execution_count": 16,
   "metadata": {},
   "outputs": [],
   "source": [
    "# Separate data by feature\n",
    "df_co2_emissions = df_x['co2_emissions']\n",
    "df_total_floor_area = df_x['total_floor_area']\n",
    "df_current_energy_efficiency = df_x['current_energy_efficiency']\n",
    "df_pot_energy_efficiency = df_x['pot_energy_efficiency']\n",
    "df_distance_to_metro = df_x['distance_to_metro']\n",
    "df_solar_heating = df_x['solar_heating']\n"
   ]
  },
  {
   "cell_type": "code",
   "execution_count": 17,
   "metadata": {},
   "outputs": [],
   "source": [
    "\n",
    "def build_models(df_X):\n",
    "    X_train, X_test, Y_train, Y_test = manually_split_data(df_X, df_y, 7)\n",
    "    reg = linear_model.LinearRegression()\n",
    "    X_train2 = np.array(X_train).reshape(-1, 1)\n",
    "    reg.fit(X_train2, Y_train)\n",
    "    X_test2 = np.array(X_test).reshape(-1, 1)\n",
    "    Y_predict = reg.predict(X_test2)\n",
    "    print(reg.coef_, '   ', reg.intercept_)   # Length of 1 feature plus 1 target variable\n",
    "    return reg"
   ]
  },
  {
   "cell_type": "code",
   "execution_count": 18,
   "metadata": {},
   "outputs": [
    {
     "name": "stdout",
     "output_type": "stream",
     "text": [
      "[[10961.53846154]]     [198865.38461538]\n",
      "[[228.34485563]]     [86660.22773485]\n",
      "[[-366.73553719]]     [266095.77922078]\n",
      "[[4219.43231441]]     [-159372.27074236]\n",
      "[[-32.0459075]]     [254910.14363274]\n",
      "[[-50000.]]     [245000.]\n"
     ]
    }
   ],
   "source": [
    "reg_co2_emissions = build_models(df_co2_emissions)\n",
    "reg_total_floor_area = build_models(df_total_floor_area)\n",
    "reg_current_energy_efficiency = build_models(df_current_energy_efficiency)\n",
    "reg_pot_energy_efficiency = build_models(df_pot_energy_efficiency)\n",
    "reg_distance_to_metro = build_models(df_distance_to_metro)\n",
    "reg_solar_heating = build_models(df_solar_heating)"
   ]
  },
  {
   "cell_type": "code",
   "execution_count": 19,
   "metadata": {},
   "outputs": [
    {
     "data": {
      "text/html": [
       "<div>\n",
       "<style scoped>\n",
       "    .dataframe tbody tr th:only-of-type {\n",
       "        vertical-align: middle;\n",
       "    }\n",
       "\n",
       "    .dataframe tbody tr th {\n",
       "        vertical-align: top;\n",
       "    }\n",
       "\n",
       "    .dataframe thead th {\n",
       "        text-align: right;\n",
       "    }\n",
       "</style>\n",
       "<table border=\"1\" class=\"dataframe\">\n",
       "  <thead>\n",
       "    <tr style=\"text-align: right;\">\n",
       "      <th></th>\n",
       "      <th>co2_emissions</th>\n",
       "      <th>total_floor_area</th>\n",
       "      <th>current_energy_efficiency</th>\n",
       "      <th>pot_energy_efficiency</th>\n",
       "      <th>distance_to_metro</th>\n",
       "      <th>solar_heating</th>\n",
       "    </tr>\n",
       "  </thead>\n",
       "  <tbody>\n",
       "    <tr>\n",
       "      <th>7</th>\n",
       "      <td>2.75</td>\n",
       "      <td>850</td>\n",
       "      <td>70</td>\n",
       "      <td>90</td>\n",
       "      <td>150</td>\n",
       "      <td>1</td>\n",
       "    </tr>\n",
       "    <tr>\n",
       "      <th>8</th>\n",
       "      <td>3.80</td>\n",
       "      <td>1000</td>\n",
       "      <td>80</td>\n",
       "      <td>101</td>\n",
       "      <td>50</td>\n",
       "      <td>1</td>\n",
       "    </tr>\n",
       "    <tr>\n",
       "      <th>9</th>\n",
       "      <td>3.10</td>\n",
       "      <td>900</td>\n",
       "      <td>90</td>\n",
       "      <td>90</td>\n",
       "      <td>275</td>\n",
       "      <td>0</td>\n",
       "    </tr>\n",
       "  </tbody>\n",
       "</table>\n",
       "</div>"
      ],
      "text/plain": [
       "   co2_emissions  total_floor_area  current_energy_efficiency  \\\n",
       "7           2.75               850                         70   \n",
       "8           3.80              1000                         80   \n",
       "9           3.10               900                         90   \n",
       "\n",
       "   pot_energy_efficiency  distance_to_metro  solar_heating  \n",
       "7                     90                150              1  \n",
       "8                    101                 50              1  \n",
       "9                     90                275              0  "
      ]
     },
     "execution_count": 19,
     "metadata": {},
     "output_type": "execute_result"
    }
   ],
   "source": [
    "X_train, X_test, Y_train, Y_test = manually_split_data(df_x, df_y, 7)\n",
    "X_test"
   ]
  },
  {
   "cell_type": "code",
   "execution_count": null,
   "metadata": {},
   "outputs": [],
   "source": []
  },
  {
   "cell_type": "code",
   "execution_count": 23,
   "metadata": {},
   "outputs": [
    {
     "name": "stdout",
     "output_type": "stream",
     "text": [
      "(1, 6)\n",
      "[[-4.96807951e+04  6.33551779e+02  2.56017954e+03 -7.90702148e+03\n",
      "  -3.17373517e+02  4.86621571e+05]]     [641703.49470984]\n",
      "Original reg model prediction =  [[963426.34177621]]\n"
     ]
    }
   ],
   "source": [
    "df2 = pd.DataFrame(columns=X_test.columns)\n",
    "df2 = df2.append(X_test.iloc[1].copy(), ignore_index=True)\n",
    "print(df2.shape)\n",
    "df2.head()\n",
    "print(reg.coef_, '   ', reg.intercept_)   # Length of 1 feature plus 1 target variable\n",
    "print('Original reg model prediction = ', reg.predict(df2))\n"
   ]
  },
  {
   "cell_type": "code",
   "execution_count": 34,
   "metadata": {},
   "outputs": [
    {
     "name": "stdout",
     "output_type": "stream",
     "text": [
      "(1, 6)\n",
      "df2 = \n",
      "    co2_emissions  total_floor_area  current_energy_efficiency  \\\n",
      "0            3.8            1000.0                       80.0   \n",
      "\n",
      "   pot_energy_efficiency  distance_to_metro  solar_heating  \n",
      "0                  101.0               50.0            1.0  \n",
      "1. Hedonic reg models prediction =  [[1507379.49165298]]\n",
      "2. Hedonic reg models prediction =  [[615220.22719158]]\n"
     ]
    }
   ],
   "source": [
    "df2 = pd.DataFrame(columns=X_test.columns)\n",
    "df2 = df2.append(X_test.iloc[1].copy(), ignore_index=True)\n",
    "print(df2.shape)\n",
    "print('df2 = \\n', df2) \n",
    "#df2.head()\n",
    "\n",
    "#print(reg_co2_emissions.coef_, '   ', reg_co2_emissions.intercept_)\n",
    "x1 = reg_co2_emissions.predict(np.array(df2['co2_emissions'].iloc[0]).reshape(-1,1))\n",
    "x2 = reg_total_floor_area.predict(np.array(df2['total_floor_area'].iloc[0]).reshape(-1,1))\n",
    "x3 = reg_current_energy_efficiency.predict(np.array(df2['current_energy_efficiency'].iloc[0]).reshape(-1,1))\n",
    "x4 = reg_pot_energy_efficiency.predict(np.array(df2['pot_energy_efficiency'].iloc[0]).reshape(-1,1))\n",
    "x5 = reg_distance_to_metro.predict(np.array(df2['distance_to_metro'].iloc[0]).reshape(-1,1))\n",
    "x6 = reg_solar_heating.predict(np.array(df2['solar_heating'].iloc[0]).reshape(-1,1))\n",
    "  \n",
    "x_total = x1 + x2 + x3 + x4 + x5 + x6\n",
    "\n",
    "\n",
    "print('1. Hedonic reg models prediction = ', x_total)\n",
    "\n",
    "# Subtract intercept values...hmmmmm\n",
    "x_total = x_total - reg_co2_emissions.intercept_\n",
    "x_total = x_total - reg_total_floor_area.intercept_\n",
    "x_total = x_total - reg_current_energy_efficiency.intercept_\n",
    "x_total = x_total - reg_pot_energy_efficiency.intercept_\n",
    "x_total = x_total - reg_distance_to_metro.intercept_\n",
    "x_total = x_total - reg_solar_heating.intercept_\n",
    "\n",
    "print('2. Hedonic reg models prediction = ', x_total)\n",
    "\n"
   ]
  },
  {
   "cell_type": "code",
   "execution_count": null,
   "metadata": {},
   "outputs": [],
   "source": [
    "#reg.predict([[3.8]])"
   ]
  },
  {
   "cell_type": "code",
   "execution_count": 31,
   "metadata": {},
   "outputs": [
    {
     "data": {
      "text/plain": [
       "value    400000.0\n",
       "Name: 8, dtype: float64"
      ]
     },
     "execution_count": 31,
     "metadata": {},
     "output_type": "execute_result"
    }
   ],
   "source": [
    "Y_test.iloc[1]"
   ]
  },
  {
   "cell_type": "code",
   "execution_count": null,
   "metadata": {},
   "outputs": [],
   "source": []
  }
 ],
 "metadata": {
  "kernelspec": {
   "display_name": "Python 3",
   "language": "python",
   "name": "python3"
  },
  "language_info": {
   "codemirror_mode": {
    "name": "ipython",
    "version": 3
   },
   "file_extension": ".py",
   "mimetype": "text/x-python",
   "name": "python",
   "nbconvert_exporter": "python",
   "pygments_lexer": "ipython3",
   "version": "3.7.3"
  }
 },
 "nbformat": 4,
 "nbformat_minor": 2
}
